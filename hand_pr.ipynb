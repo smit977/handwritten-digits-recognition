{
 "cells": [
  {
   "cell_type": "code",
   "execution_count": 1,
   "metadata": {},
   "outputs": [],
   "source": [
    "import tkinter as tk\n",
    "from PIL import ImageTk,Image,ImageDraw\n",
    "import numpy as np\n",
    "import cv2\n",
    "import joblib"
   ]
  },
  {
   "cell_type": "code",
   "execution_count": 4,
   "metadata": {},
   "outputs": [],
   "source": [
    "win=tk.Tk()\n",
    "\n",
    "#main window\n",
    "w,h,=500,500\n",
    "fontButton='Helvetica 20 bold'\n",
    "fontLabel='Helvetica 24 bold'\n",
    "count=0\n",
    "\n",
    "model=joblib.load('KNN-digits.sav')\n",
    "\n",
    "def eventFunction(event):\n",
    "    x=event.x\n",
    "    y=event.y\n",
    "    \n",
    "    x1=x-30\n",
    "    y1=y-30\n",
    "    x2=x+30\n",
    "    y2=y+30\n",
    "    \n",
    "    canvas.create_oval((x1,y1,x2,y2),fill='black')\n",
    "    imgDraw.ellipse((x1,y1,x2,y2),fill='white')\n",
    "    \n",
    "def save():\n",
    "    global count\n",
    "    imgArray=np.array(img)\n",
    "    imgArray=cv2.resize(imgArray,(8,8))\n",
    "    \n",
    "    cv2.imwrite(str(count)+'.jpg',imgArray)\n",
    "    count+=1\n",
    "    \n",
    "def clear():\n",
    "    global img,imgDraw\n",
    "    canvas.delete('all')\n",
    "    img=Image.new('RGB',(w,h),(0,0,0))\n",
    "    imgDraw=ImageDraw.Draw(img)\n",
    "    \n",
    "def predict():\n",
    "    #preprocess the image\n",
    "    \n",
    "    imgArray=np.array(img)\n",
    "    imgArray=cv2.cvtColor(imgArray,cv2.COLOR_RGB2GRAY)\n",
    "    imgArray=cv2.resize(imgArray,(8,8))\n",
    "    imgArray=np.reshape(imgArray,(1,64))\n",
    "    \n",
    "    #scaling to 0:16\n",
    "    \n",
    "    imgArray=(imgArray/255.0)*15.0\n",
    "    \n",
    "    result=model.predict(imgArray)\n",
    "    labelStatus.config(text='PREDICTED DIGIT IS'+str(result))\n",
    "    \n",
    "canvas=tk.Canvas(win,width=w,height=h,bg='white')\n",
    "canvas.grid(row=0,column=0,columnspan=4)\n",
    "\n",
    "buttonSave=tk.Button(win,text='SAVE',bg='light sea green',fg='white',font=fontButton,command=save)\n",
    "buttonSave.grid(row=1,column=0)\n",
    "\n",
    "buttonPredict=tk.Button(win,text='PREDICT',bg='blue',fg='white',font=fontButton,command=predict)\n",
    "buttonPredict.grid(row=1,column=1)\n",
    "\n",
    "buttonClear=tk.Button(win,text='CLEAR',bg='gold',fg='white',font=fontButton,command=clear)\n",
    "buttonClear.grid(row=1,column=2)\n",
    "\n",
    "buttonExit=tk.Button(win,text='EXIT',bg='red',fg='white',font=fontButton,command=win.destroy)\n",
    "buttonExit.grid(row=1,column=3)\n",
    "\n",
    "\n",
    "labelStatus=tk.Label(win,text='PREDICTED DIGIT:NONE',bg='white',fg='black',font=fontLabel)\n",
    "labelStatus.grid(row=2,column=0,columnspan=4)\n",
    "\n",
    "canvas.bind('<B1-Motion>',eventFunction)\n",
    "img=Image.new('RGB',(w,h),(0,0,0))\n",
    "imgDraw=ImageDraw.Draw(img)\n",
    "win.mainloop()"
   ]
  },
  {
   "cell_type": "code",
   "execution_count": 1,
   "metadata": {},
   "outputs": [],
   "source": [
   ]
  },
  {
   "cell_type": "code",
   "execution_count": null,
   "metadata": {
    "collapsed": true
   },
   "outputs": [],
   "source": []
  }
 ],
 "metadata": {
  "kernelspec": {
   "display_name": "Python 3",
   "language": "python",
   "name": "python3"
  },
  "language_info": {
   "codemirror_mode": {
    "name": "ipython",
    "version": 3
   },
   "file_extension": ".py",
   "mimetype": "text/x-python",
   "name": "python",
   "nbconvert_exporter": "python",
   "pygments_lexer": "ipython3",
   "version": "3.8.3"
  }
 },
 "nbformat": 4,
 "nbformat_minor": 4
}
